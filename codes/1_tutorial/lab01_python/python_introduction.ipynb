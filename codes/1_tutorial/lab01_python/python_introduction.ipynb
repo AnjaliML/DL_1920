{
 "cells": [
  {
   "cell_type": "markdown",
   "metadata": {},
   "source": [
    "# Lab 01: Introduction to Python"
   ]
  },
  {
   "cell_type": "markdown",
   "metadata": {},
   "source": [
    "This notebook contains some examples of Python code, just to gain some familiarity with the syntax."
   ]
  },
  {
   "cell_type": "markdown",
   "metadata": {},
   "source": [
    "### Strings"
   ]
  },
  {
   "cell_type": "code",
   "execution_count": 1,
   "metadata": {},
   "outputs": [
    {
     "name": "stdout",
     "output_type": "stream",
     "text": [
      "hello\n"
     ]
    }
   ],
   "source": [
    "s1='hello'\n",
    "print(s1)"
   ]
  },
  {
   "cell_type": "code",
   "execution_count": 2,
   "metadata": {},
   "outputs": [
    {
     "data": {
      "text/plain": [
       "str"
      ]
     },
     "execution_count": 2,
     "metadata": {},
     "output_type": "execute_result"
    }
   ],
   "source": [
    "type(s1)"
   ]
  },
  {
   "cell_type": "code",
   "execution_count": 3,
   "metadata": {},
   "outputs": [
    {
     "name": "stdout",
     "output_type": "stream",
     "text": [
      "hello world\n"
     ]
    }
   ],
   "source": [
    "s2='world'\n",
    "print(s1,s2)"
   ]
  },
  {
   "cell_type": "code",
   "execution_count": 4,
   "metadata": {},
   "outputs": [
    {
     "name": "stdout",
     "output_type": "stream",
     "text": [
      "hello \t world\n"
     ]
    }
   ],
   "source": [
    "print(s1,'\\t',s2)"
   ]
  },
  {
   "cell_type": "code",
   "execution_count": 5,
   "metadata": {},
   "outputs": [
    {
     "name": "stdout",
     "output_type": "stream",
     "text": [
      "HELLO\n"
     ]
    }
   ],
   "source": [
    "print(s1.upper())"
   ]
  },
  {
   "cell_type": "markdown",
   "metadata": {},
   "source": [
    "### Numbers"
   ]
  },
  {
   "cell_type": "code",
   "execution_count": 6,
   "metadata": {},
   "outputs": [
    {
     "name": "stdout",
     "output_type": "stream",
     "text": [
      "5\n",
      "-0.3\n"
     ]
    }
   ],
   "source": [
    "x=5\n",
    "y=-0.3\n",
    "print(x)\n",
    "print(y)"
   ]
  },
  {
   "cell_type": "code",
   "execution_count": 7,
   "metadata": {},
   "outputs": [
    {
     "data": {
      "text/plain": [
       "int"
      ]
     },
     "execution_count": 7,
     "metadata": {},
     "output_type": "execute_result"
    }
   ],
   "source": [
    "type(x)"
   ]
  },
  {
   "cell_type": "code",
   "execution_count": 8,
   "metadata": {},
   "outputs": [
    {
     "data": {
      "text/plain": [
       "float"
      ]
     },
     "execution_count": 8,
     "metadata": {},
     "output_type": "execute_result"
    }
   ],
   "source": [
    "type(y)"
   ]
  },
  {
   "cell_type": "code",
   "execution_count": 9,
   "metadata": {},
   "outputs": [
    {
     "name": "stdout",
     "output_type": "stream",
     "text": [
      "4.7\n"
     ]
    }
   ],
   "source": [
    "z=x+y\n",
    "print(z)"
   ]
  },
  {
   "cell_type": "code",
   "execution_count": 10,
   "metadata": {},
   "outputs": [
    {
     "name": "stdout",
     "output_type": "stream",
     "text": [
      "x+y = 4.7\n"
     ]
    }
   ],
   "source": [
    "print('x+y =' , z)"
   ]
  },
  {
   "cell_type": "code",
   "execution_count": 11,
   "metadata": {},
   "outputs": [
    {
     "name": "stdout",
     "output_type": "stream",
     "text": [
      "x=2.35789, x=2.4\n"
     ]
    }
   ],
   "source": [
    "x=2.35789202950400\n",
    "print('x={:2.5f}, x={:.1f}'.format(x,x))"
   ]
  },
  {
   "cell_type": "markdown",
   "metadata": {},
   "source": [
    "### write an efficient algorithm to clculate pi"
   ]
  },
  {
   "cell_type": "code",
   "execution_count": 17,
   "metadata": {},
   "outputs": [
    {
     "name": "stdout",
     "output_type": "stream",
     "text": [
      "Estimation of pi with 1 terms: 3.1415926535897345\n",
      "Difference from math.pi: 5.861977570020827e-14\n",
      "\n",
      "Estimation of pi with 4 terms: 3.1415926535897936\n",
      "Difference from math.pi: 4.440892098500626e-16\n",
      "\n",
      "Estimation of pi with 8 terms: 3.1415926535897936\n",
      "Difference from math.pi: 4.440892098500626e-16\n",
      "\n",
      "Value of math.pi for reference: 3.141592653589793\n"
     ]
    }
   ],
   "source": [
    "import math\n",
    "\n",
    "def factorial(n):\n",
    "    if n == 0:\n",
    "        return 1\n",
    "    return n * factorial(n - 1)\n",
    "\n",
    "def estimate_pi(num_terms):\n",
    "    sum_result = 0\n",
    "    for k in range(num_terms):\n",
    "        numerator = (-1)**k * factorial(6*k) * (545140134*k + 13591409)\n",
    "        denominator = factorial(3*k) * (factorial(k)**3) * (640320**(3*k + 3/2))\n",
    "        sum_result += numerator / denominator\n",
    "    \n",
    "    return 1 / (12 * sum_result)\n",
    "\n",
    "# Estimate pi with different numbers of terms\n",
    "for terms in [1, 4, 8]:\n",
    "    pi_estimate = estimate_pi(terms)\n",
    "    print(f\"Estimation of pi with {terms} terms: {pi_estimate}\")\n",
    "    print(f\"Difference from math.pi: {abs(pi_estimate - math.pi)}\")\n",
    "    print()\n",
    "\n",
    "print(f\"Value of math.pi for reference: {math.pi}\")"
   ]
  },
  {
   "cell_type": "markdown",
   "metadata": {},
   "source": [
    "### Boolean"
   ]
  },
  {
   "cell_type": "code",
   "execution_count": 1,
   "metadata": {},
   "outputs": [
    {
     "name": "stdout",
     "output_type": "stream",
     "text": [
      "True\n",
      "False\n"
     ]
    }
   ],
   "source": [
    "b1=True\n",
    "b2=False\n",
    "\n",
    "print(b1)\n",
    "print(b2)"
   ]
  },
  {
   "cell_type": "code",
   "execution_count": 2,
   "metadata": {},
   "outputs": [
    {
     "data": {
      "text/plain": [
       "bool"
      ]
     },
     "execution_count": 2,
     "metadata": {},
     "output_type": "execute_result"
    }
   ],
   "source": [
    "type(b1)"
   ]
  },
  {
   "cell_type": "markdown",
   "metadata": {},
   "source": [
    "### Loops"
   ]
  },
  {
   "cell_type": "code",
   "execution_count": 3,
   "metadata": {},
   "outputs": [
    {
     "name": "stdout",
     "output_type": "stream",
     "text": [
      "0\n",
      "1\n",
      "2\n",
      "3\n",
      "4\n",
      "5\n",
      "6\n",
      "7\n",
      "8\n",
      "9\n"
     ]
    }
   ],
   "source": [
    "for i in range(0,10):\n",
    "    print(i)"
   ]
  },
  {
   "cell_type": "code",
   "execution_count": 4,
   "metadata": {},
   "outputs": [
    {
     "name": "stdout",
     "output_type": "stream",
     "text": [
      "i= 1 \t i^2= 1\n",
      "i= 2 \t i^2= 4\n",
      "i= 3 \t i^2= 9\n",
      "i= 4 \t i^2= 16\n",
      "i= 5 \t i^2= 25\n",
      "i= 6 \t i^2= 36\n",
      "i= 7 \t i^2= 49\n",
      "i= 8 \t i^2= 64\n",
      "i= 9 \t i^2= 81\n"
     ]
    }
   ],
   "source": [
    "for i in range(1,10):\n",
    "    print('i=', i , '\\t i^2=', i**2)"
   ]
  },
  {
   "cell_type": "markdown",
   "metadata": {},
   "source": [
    "### Loops with step size"
   ]
  },
  {
   "cell_type": "code",
   "execution_count": 5,
   "metadata": {},
   "outputs": [
    {
     "name": "stdout",
     "output_type": "stream",
     "text": [
      "0\n",
      "2\n",
      "4\n",
      "6\n",
      "8\n"
     ]
    }
   ],
   "source": [
    "for i in range(0,10,2):\n",
    "    print(i)"
   ]
  },
  {
   "cell_type": "markdown",
   "metadata": {},
   "source": [
    "### If statement"
   ]
  },
  {
   "cell_type": "code",
   "execution_count": 6,
   "metadata": {},
   "outputs": [
    {
     "name": "stdout",
     "output_type": "stream",
     "text": [
      "x is non zero\n"
     ]
    }
   ],
   "source": [
    "x=5\n",
    "\n",
    "if x == 0:\n",
    "    print('x equal zero')\n",
    "else:\n",
    "    print('x is non zero')"
   ]
  },
  {
   "cell_type": "code",
   "execution_count": 7,
   "metadata": {},
   "outputs": [
    {
     "name": "stdout",
     "output_type": "stream",
     "text": [
      "hello\n"
     ]
    }
   ],
   "source": [
    "loud=False\n",
    "mystring='hello'\n",
    "\n",
    "if loud:\n",
    "    print(mystring.upper())\n",
    "else:\n",
    "    print(mystring)"
   ]
  },
  {
   "cell_type": "markdown",
   "metadata": {},
   "source": [
    "### Intendation"
   ]
  },
  {
   "cell_type": "code",
   "execution_count": 8,
   "metadata": {},
   "outputs": [
    {
     "name": "stdout",
     "output_type": "stream",
     "text": [
      "-3  is negative\n",
      "-2  is negative\n",
      "-1  is negative\n",
      "0  is equal to zero\n",
      "1  is positive\n",
      "2  is positive\n",
      "out of the loop\n"
     ]
    }
   ],
   "source": [
    "for i in range(-3,3):\n",
    "    \n",
    "    if i<0:\n",
    "        print(i , ' is negative')\n",
    "    elif i>0:\n",
    "        print(i,' is positive' )\n",
    "    else:\n",
    "        print(i,' is equal to zero')\n",
    "        \n",
    "print('out of the loop')"
   ]
  },
  {
   "cell_type": "code",
   "execution_count": 9,
   "metadata": {},
   "outputs": [
    {
     "name": "stdout",
     "output_type": "stream",
     "text": [
      "-3  is negative\n",
      "in the loop\n",
      "-2  is negative\n",
      "in the loop\n",
      "-1  is negative\n",
      "in the loop\n",
      "0  is equal to zero\n",
      "in the loop\n",
      "1  is positive\n",
      "in the loop\n",
      "2  is positive\n",
      "in the loop\n"
     ]
    }
   ],
   "source": [
    "for i in range(-3,3):\n",
    "    \n",
    "    if i<0:\n",
    "        print(i , ' is negative')\n",
    "    elif i>0:\n",
    "        print(i,' is positive' )\n",
    "    else:\n",
    "        print(i,' is equal to zero')\n",
    "        \n",
    "    print('in the loop')"
   ]
  },
  {
   "cell_type": "code",
   "execution_count": 10,
   "metadata": {},
   "outputs": [
    {
     "name": "stdout",
     "output_type": "stream",
     "text": [
      "-3  is negative\n",
      "-2  is negative\n",
      "-1  is negative\n",
      "0  is equal to zero\n",
      "in the else statement\n",
      "1  is positive\n",
      "2  is positive\n"
     ]
    }
   ],
   "source": [
    "for i in range(-3,3):\n",
    "    \n",
    "    if i<0:\n",
    "        print(i , ' is negative')\n",
    "    elif i>0:\n",
    "        print(i,' is positive' )\n",
    "    else:\n",
    "        print(i,' is equal to zero')\n",
    "        \n",
    "        print('in the else statement')"
   ]
  },
  {
   "cell_type": "markdown",
   "metadata": {},
   "source": [
    "### Load libraries"
   ]
  },
  {
   "cell_type": "markdown",
   "metadata": {},
   "source": [
    "List all libraries modudels: lib. + tab\n",
    "\n",
    "List properties of the module: lib.abs + shit + tab"
   ]
  },
  {
   "cell_type": "code",
   "execution_count": 11,
   "metadata": {},
   "outputs": [],
   "source": [
    "import numpy as np"
   ]
  },
  {
   "cell_type": "code",
   "execution_count": 12,
   "metadata": {},
   "outputs": [
    {
     "data": {
      "text/plain": [
       "<ufunc 'absolute'>"
      ]
     },
     "execution_count": 12,
     "metadata": {},
     "output_type": "execute_result"
    }
   ],
   "source": [
    "np.abs"
   ]
  },
  {
   "cell_type": "markdown",
   "metadata": {},
   "source": [
    "### Functions "
   ]
  },
  {
   "cell_type": "code",
   "execution_count": 13,
   "metadata": {},
   "outputs": [],
   "source": [
    "def myfun(x,y):\n",
    "    \n",
    "    z = x**2 + y\n",
    "    \n",
    "    return z"
   ]
  },
  {
   "cell_type": "code",
   "execution_count": 14,
   "metadata": {
    "scrolled": true
   },
   "outputs": [
    {
     "name": "stdout",
     "output_type": "stream",
     "text": [
      "10\n"
     ]
    }
   ],
   "source": [
    "z=myfun(3,1)\n",
    "print(z)"
   ]
  },
  {
   "cell_type": "markdown",
   "metadata": {},
   "source": [
    "### Functions are just another type of object, like strings, floats, or boolean"
   ]
  },
  {
   "cell_type": "code",
   "execution_count": 15,
   "metadata": {},
   "outputs": [
    {
     "data": {
      "text/plain": [
       "function"
      ]
     },
     "execution_count": 15,
     "metadata": {},
     "output_type": "execute_result"
    }
   ],
   "source": [
    "type(myfun)"
   ]
  },
  {
   "cell_type": "markdown",
   "metadata": {},
   "source": [
    "### The sign function"
   ]
  },
  {
   "cell_type": "code",
   "execution_count": 16,
   "metadata": {},
   "outputs": [],
   "source": [
    "def sign(x):\n",
    "    \n",
    "    if x > 0:\n",
    "        mystring='positive'\n",
    "    elif x < 0:\n",
    "        mystring= 'negative'\n",
    "    else:\n",
    "        mystring= 'zero'\n",
    "        \n",
    "    return mystring"
   ]
  },
  {
   "cell_type": "code",
   "execution_count": 17,
   "metadata": {},
   "outputs": [
    {
     "name": "stdout",
     "output_type": "stream",
     "text": [
      "positive\n"
     ]
    }
   ],
   "source": [
    "string= sign(0.5)\n",
    "print(string)"
   ]
  },
  {
   "cell_type": "markdown",
   "metadata": {},
   "source": [
    "### The greeting function"
   ]
  },
  {
   "cell_type": "code",
   "execution_count": 18,
   "metadata": {},
   "outputs": [],
   "source": [
    "def hello(name, loud):\n",
    "    \n",
    "    if loud:\n",
    "        print('HELLO', name.upper(), '!')\n",
    "    else:\n",
    "        print('Hello', name)\n",
    "        "
   ]
  },
  {
   "cell_type": "code",
   "execution_count": 19,
   "metadata": {},
   "outputs": [
    {
     "name": "stdout",
     "output_type": "stream",
     "text": [
      "Hello Bob\n",
      "HELLO FRED !\n"
     ]
    }
   ],
   "source": [
    "hello('Bob', False) \n",
    "hello('Fred', True)  # Prints \"HELLO, FRED!\""
   ]
  },
  {
   "cell_type": "markdown",
   "metadata": {},
   "source": [
    "### Classes"
   ]
  },
  {
   "cell_type": "markdown",
   "metadata": {},
   "source": [
    "### A simple class for complex numbers : real + i imag"
   ]
  },
  {
   "cell_type": "code",
   "execution_count": 20,
   "metadata": {},
   "outputs": [],
   "source": [
    "class Complex:\n",
    "    \n",
    "    # constructor:\n",
    "    def __init__( self,  real_part,  imaginary_part ):\n",
    "        self.re = real_part\n",
    "        self.im = imaginary_part\n",
    "        \n",
    "    # methods/functions:\n",
    "    \n",
    "    def display(self):\n",
    "        print( self.re,'+',self.im,'i')\n",
    "            \n",
    "    def compute_modulus(self):\n",
    "        modulus = ( self.re**2 + self.im**2 )**(1/2)\n",
    "        return modulus\n",
    "    \n",
    "    def multiply_by(self,scalar):\n",
    "        self.re = self.re * scalar\n",
    "        self.im = self.im * scalar\n",
    "    "
   ]
  },
  {
   "cell_type": "code",
   "execution_count": 21,
   "metadata": {},
   "outputs": [
    {
     "name": "stdout",
     "output_type": "stream",
     "text": [
      "<__main__.Complex object at 0x7fccf05bc6a0>\n"
     ]
    }
   ],
   "source": [
    "# Create an instance\n",
    "z=Complex(4,3)\n",
    "print(z)"
   ]
  },
  {
   "cell_type": "code",
   "execution_count": 22,
   "metadata": {},
   "outputs": [
    {
     "name": "stdout",
     "output_type": "stream",
     "text": [
      "4\n",
      "3\n"
     ]
    }
   ],
   "source": [
    "# Access the attributes\n",
    "print(z.re)\n",
    "print(z.im)"
   ]
  },
  {
   "cell_type": "code",
   "execution_count": 23,
   "metadata": {},
   "outputs": [
    {
     "name": "stdout",
     "output_type": "stream",
     "text": [
      "4 + 3 i\n"
     ]
    }
   ],
   "source": [
    "# Use the display() method\n",
    "z.display()"
   ]
  },
  {
   "cell_type": "code",
   "execution_count": 24,
   "metadata": {},
   "outputs": [
    {
     "name": "stdout",
     "output_type": "stream",
     "text": [
      "5.0\n"
     ]
    }
   ],
   "source": [
    "# Compute the modulus\n",
    "m=z.compute_modulus()\n",
    "print(m)"
   ]
  },
  {
   "cell_type": "code",
   "execution_count": 25,
   "metadata": {},
   "outputs": [
    {
     "name": "stdout",
     "output_type": "stream",
     "text": [
      "20 + 15 i\n",
      "20\n"
     ]
    }
   ],
   "source": [
    "# Change the attributes\n",
    "z.multiply_by(5)\n",
    "z.display()\n",
    "print(z.re)\n"
   ]
  },
  {
   "cell_type": "markdown",
   "metadata": {},
   "source": [
    "### Optional"
   ]
  },
  {
   "cell_type": "markdown",
   "metadata": {},
   "source": [
    "### Load and save data"
   ]
  },
  {
   "cell_type": "code",
   "execution_count": 26,
   "metadata": {},
   "outputs": [
    {
     "data": {
      "text/plain": [
       "'/Users/anjalisuman/Documents/GitHub/DL_1920/codes/1_tutorial/lab01_python'"
      ]
     },
     "execution_count": 26,
     "metadata": {},
     "output_type": "execute_result"
    }
   ],
   "source": [
    "pwd"
   ]
  },
  {
   "cell_type": "code",
   "execution_count": 27,
   "metadata": {},
   "outputs": [
    {
     "name": "stdout",
     "output_type": "stream",
     "text": [
      "total 40\n",
      "drwxr-xr-x@  4 anjalisuman  staff    128 Jul 20 07:05 \u001b[1m\u001b[36m.\u001b[m\u001b[m/\n",
      "drwxr-xr-x@ 11 anjalisuman  staff    352 Jul 20 07:05 \u001b[1m\u001b[36m..\u001b[m\u001b[m/\n",
      "-rw-r--r--@  1 anjalisuman  staff  19502 Jul 20 07:05 python_introduction.ipynb\n",
      "-rw-r--r--   1 anjalisuman  staff      0 Jun 12  2023 test.ipynb\n"
     ]
    }
   ],
   "source": [
    "ls -al"
   ]
  },
  {
   "cell_type": "code",
   "execution_count": 28,
   "metadata": {},
   "outputs": [
    {
     "name": "stdout",
     "output_type": "stream",
     "text": [
      "/Users/anjalisuman/Documents/GitHub/DL_1920/codes/1_tutorial\n"
     ]
    }
   ],
   "source": [
    "cd .."
   ]
  },
  {
   "cell_type": "code",
   "execution_count": 29,
   "metadata": {},
   "outputs": [
    {
     "data": {
      "text/plain": [
       "'/Users/anjalisuman/Documents/GitHub/DL_1920/codes/1_tutorial'"
      ]
     },
     "execution_count": 29,
     "metadata": {},
     "output_type": "execute_result"
    }
   ],
   "source": [
    "pwd"
   ]
  },
  {
   "cell_type": "code",
   "execution_count": 30,
   "metadata": {},
   "outputs": [
    {
     "name": "stdout",
     "output_type": "stream",
     "text": [
      "/Users/anjalisuman/Documents/GitHub/DL_1920/codes/1_tutorial/lab01_python\n"
     ]
    }
   ],
   "source": [
    "cd lab01_python"
   ]
  },
  {
   "cell_type": "code",
   "execution_count": 37,
   "metadata": {},
   "outputs": [],
   "source": [
    "import csv\n",
    "\n",
    "filename = \"profit_population.txt\"\n",
    "\n",
    "data = [('S. No', 'age'), (0, 1), (1, 2)]\n",
    "\n",
    "with open(filename, 'w', newline='') as file:\n",
    "    writer = csv.writer(file, delimiter=',')\n",
    "    writer.writerows(data)\n"
   ]
  },
  {
   "cell_type": "code",
   "execution_count": 40,
   "metadata": {},
   "outputs": [
    {
     "name": "stdout",
     "output_type": "stream",
     "text": [
      "profit_population.txt\n",
      "[[0. 1.]\n",
      " [1. 2.]]\n"
     ]
    }
   ],
   "source": [
    "print(filename)\n",
    "data = np.loadtxt(filename, delimiter=',', skiprows=1)\n",
    "print(data)"
   ]
  },
  {
   "cell_type": "code",
   "execution_count": 41,
   "metadata": {},
   "outputs": [],
   "source": [
    "new_data = 2* data\n",
    "np.savetxt(filename, new_data, delimiter=',', fmt='%2.5f')"
   ]
  },
  {
   "cell_type": "code",
   "execution_count": 42,
   "metadata": {},
   "outputs": [
    {
     "name": "stdout",
     "output_type": "stream",
     "text": [
      "Variable   Type             Data/Info\n",
      "-------------------------------------\n",
      "Complex    type             <class '__main__.Complex'>\n",
      "b1         bool             True\n",
      "b2         bool             False\n",
      "csv        module           <module 'csv' from '/User<...>a3/lib/python3.9/csv.py'>\n",
      "data       ndarray          2x2: 4 elems, type `float64`, 32 bytes\n",
      "file       TextIOWrapper    <_io.TextIOWrapper name='<...>ode='w' encoding='UTF-8'>\n",
      "filename   str              profit_population.txt\n",
      "hello      function         <function hello at 0x7fccd09c5820>\n",
      "i          int              2\n",
      "loud       bool             False\n",
      "m          float            5.0\n",
      "myfun      function         <function myfun at 0x7fccd09c55e0>\n",
      "mystring   str              hello\n",
      "new_data   ndarray          2x2: 4 elems, type `float64`, 32 bytes\n",
      "np         module           <module 'numpy' from '/Us<...>kages/numpy/__init__.py'>\n",
      "sign       function         <function sign at 0x7fccd09c58b0>\n",
      "string     str              positive\n",
      "writer     writer           <_csv.writer object at 0x7fcca074ddb0>\n",
      "x          int              5\n",
      "z          Complex          <__main__.Complex object at 0x7fccf05bc6a0>\n"
     ]
    }
   ],
   "source": [
    "%whos"
   ]
  },
  {
   "cell_type": "markdown",
   "metadata": {},
   "source": [
    "### Plotting data"
   ]
  },
  {
   "cell_type": "code",
   "execution_count": 44,
   "metadata": {},
   "outputs": [],
   "source": [
    "# Visualization library\n",
    "%matplotlib inline\n",
    "from matplotlib_inline.backend_inline import set_matplotlib_formats\n",
    "set_matplotlib_formats('png2x', 'pdf')\n",
    "import matplotlib.pyplot as plt"
   ]
  },
  {
   "cell_type": "code",
   "execution_count": 45,
   "metadata": {},
   "outputs": [
    {
     "data": {
      "application/pdf": "[encoded data removed]",
      "image/png": "[encoded data removed]",
      "text/plain": [
       "<Figure size 640x480 with 1 Axes>"
      ]
     },
     "metadata": {
      "image/png": {
       "height": 454,
       "width": 587
      }
     },
     "output_type": "display_data"
    }
   ],
   "source": [
    "x = np.linspace(0,6*np.pi,100)\n",
    "#print(x)\n",
    "y = np.sin(x)\n",
    "\n",
    "plt.figure(1)\n",
    "plt.plot(x, y,label='sin'.format(i=1))\n",
    "plt.legend(loc='best')\n",
    "plt.title('Sin plotting')\n",
    "plt.xlabel('x')\n",
    "plt.ylabel('y')\n",
    "plt.show()"
   ]
  },
  {
   "cell_type": "markdown",
   "metadata": {},
   "source": [
    "### Vectorization and efficient linear algebra computations"
   ]
  },
  {
   "cell_type": "markdown",
   "metadata": {},
   "source": [
    "### No vectorization"
   ]
  },
  {
   "cell_type": "code",
   "execution_count": 46,
   "metadata": {},
   "outputs": [],
   "source": [
    "import time"
   ]
  },
  {
   "cell_type": "code",
   "execution_count": 47,
   "metadata": {},
   "outputs": [],
   "source": [
    "n = 10**7\n",
    "x = np.linspace(0,1,n)\n",
    "y = np.linspace(0,2,n)"
   ]
  },
  {
   "cell_type": "code",
   "execution_count": 48,
   "metadata": {},
   "outputs": [
    {
     "name": "stdout",
     "output_type": "stream",
     "text": [
      "6666666.999999491\n",
      "Time= 3.9567742347717285\n"
     ]
    }
   ],
   "source": [
    "start = time.time()\n",
    "z = 0\n",
    "for i in range(len(x)):\n",
    "    z += x[i]*y[i]\n",
    "end = time.time() - start\n",
    "print(z)\n",
    "print('Time=',end)"
   ]
  },
  {
   "cell_type": "markdown",
   "metadata": {},
   "source": [
    "### Vectorization"
   ]
  },
  {
   "cell_type": "code",
   "execution_count": 49,
   "metadata": {},
   "outputs": [
    {
     "name": "stdout",
     "output_type": "stream",
     "text": [
      "6666667.000000043\n",
      "Time= 0.0019757747650146484\n"
     ]
    }
   ],
   "source": [
    "start = time.time()\n",
    "z = x.T.dot(y)\n",
    "end = time.time() - start\n",
    "print(z)\n",
    "print('Time=',end)"
   ]
  },
  {
   "cell_type": "markdown",
   "metadata": {},
   "source": [
    "Speed of vectorized codes maybe 2-3 orders of magnitude faster than unvectorized codes.\n",
    "\n",
    "Vectorized codes (with vectors, matrices) benefit from fast linear algebra libraries (BLAS, LAPACK) and adapted architectures for CPUs, multi-core CPUs, and GPUs."
   ]
  },
  {
   "cell_type": "code",
   "execution_count": null,
   "metadata": {},
   "outputs": [],
   "source": []
  }
 ],
 "metadata": {
  "kernelspec": {
   "display_name": "Python 3",
   "language": "python",
   "name": "python3"
  },
  "language_info": {
   "codemirror_mode": {
    "name": "ipython",
    "version": 3
   },
   "file_extension": ".py",
   "mimetype": "text/x-python",
   "name": "python",
   "nbconvert_exporter": "python",
   "pygments_lexer": "ipython3",
   "version": "3.9.12"
  }
 },
 "nbformat": 4,
 "nbformat_minor": 2
}
