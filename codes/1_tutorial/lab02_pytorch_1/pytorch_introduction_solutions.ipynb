{
 "cells": [
  {
   "cell_type": "markdown",
   "metadata": {
    "colab_type": "text",
    "id": "Egnp8mwbRZjF"
   },
   "source": [
    "# Introduction to PyTorch -- Solutions"
   ]
  },
  {
   "cell_type": "code",
   "execution_count": 1,
   "metadata": {
    "colab": {},
    "colab_type": "code",
    "id": "Dc2_TsLVRZjH"
   },
   "outputs": [],
   "source": [
    "import torch"
   ]
  },
  {
   "cell_type": "markdown",
   "metadata": {
    "colab_type": "text",
    "id": "fqaa85D2RZjJ"
   },
   "source": [
    "### Make the matrices A and B below. Add them together to obtain a matrix C. Print these three matrices.\n",
    "$$\n",
    "A =\\begin{bmatrix}\n",
    "1 & 2 \\\\ 3 & 4\n",
    "\\end{bmatrix}  \n",
    "\\qquad \n",
    "B =\\begin{bmatrix}\n",
    "10 & 20 \\\\ 30 & 40\n",
    "\\end{bmatrix}  \\qquad C=A+B =?\n",
    "$$"
   ]
  },
  {
   "cell_type": "code",
   "execution_count": 2,
   "metadata": {
    "colab": {},
    "colab_type": "code",
    "id": "rmXzfAdNRZjK",
    "outputId": "f8e7d381-a11b-4793-d9e8-b4398ecb3fe1"
   },
   "outputs": [
    {
     "name": "stdout",
     "output_type": "stream",
     "text": [
      "tensor([[1., 2.],\n",
      "        [3., 4.]])\n",
      "\n",
      "tensor([[10., 20.],\n",
      "        [30., 40.]])\n",
      "\n",
      "tensor([[11., 22.],\n",
      "        [33., 44.]])\n"
     ]
    }
   ],
   "source": [
    "A=torch.Tensor( [ [1,2] , [3,4] ] )\n",
    "B=torch.Tensor( [ [10,20] , [30,40] ] )\n",
    "\n",
    "C=A+B\n",
    "\n",
    "print(A)\n",
    "print('')\n",
    "print(B)\n",
    "print('')\n",
    "print(C)"
   ]
  },
  {
   "cell_type": "markdown",
   "metadata": {
    "colab_type": "text",
    "id": "s6HYN_gCRZjN"
   },
   "source": [
    "### Print the sizes, dimension, and type of the matrix A. Remember, the commands are size(), dim() and type()"
   ]
  },
  {
   "cell_type": "code",
   "execution_count": 3,
   "metadata": {
    "colab": {},
    "colab_type": "code",
    "id": "z3mFUo1xRZjO",
    "outputId": "2545a8dc-6d3f-409d-cfea-d277cfea64e2"
   },
   "outputs": [
    {
     "name": "stdout",
     "output_type": "stream",
     "text": [
      "torch.Size([2, 2])\n",
      "2\n",
      "torch.FloatTensor\n"
     ]
    }
   ],
   "source": [
    "print( A.size() )\n",
    "print( A.dim() )\n",
    "print( A.type() )"
   ]
  },
  {
   "cell_type": "markdown",
   "metadata": {
    "colab_type": "text",
    "id": "uMOOmo6kRZjR"
   },
   "source": [
    "### Convert the matrix A to be an integer matrix  (type LongTensor). Remember, the command is long(). Then print the type to check it was indeed converted."
   ]
  },
  {
   "cell_type": "code",
   "execution_count": 4,
   "metadata": {
    "colab": {},
    "colab_type": "code",
    "id": "v50nF_PKRZjS",
    "outputId": "431e8901-1455-4513-c2fb-e24c1dec41d9"
   },
   "outputs": [
    {
     "name": "stdout",
     "output_type": "stream",
     "text": [
      "tensor([[1, 2],\n",
      "        [3, 4]])\n",
      "torch.LongTensor\n"
     ]
    }
   ],
   "source": [
    "A=A.long()\n",
    "print(A)\n",
    "print(A.type())"
   ]
  },
  {
   "cell_type": "markdown",
   "metadata": {
    "colab_type": "text",
    "id": "bfRf4mhpRZjU"
   },
   "source": [
    "### Make a random 5 x 2 x 3 Tensor. The command is torch.rand.  Then do the following:   1) Print the tensor,  2) Print its type, 3) Print its dimension,  4) Print its size, 5) Print the size of its middle dimension."
   ]
  },
  {
   "cell_type": "code",
   "execution_count": 5,
   "metadata": {
    "colab": {},
    "colab_type": "code",
    "id": "i-ugwzakRZjV",
    "outputId": "3f4ff5bb-cc6f-4b63-a056-d3948814807a"
   },
   "outputs": [
    {
     "name": "stdout",
     "output_type": "stream",
     "text": [
      "tensor([[[0.8701, 0.3568, 0.1633, 0.7290],\n",
      "         [0.2824, 0.7079, 0.1837, 0.3675]],\n",
      "\n",
      "        [[0.1442, 0.3833, 0.7606, 0.4600],\n",
      "         [0.6259, 0.0662, 0.8280, 0.2585]],\n",
      "\n",
      "        [[0.4741, 0.3761, 0.7646, 0.5612],\n",
      "         [0.9687, 0.1040, 0.1612, 0.9647]],\n",
      "\n",
      "        [[0.3693, 0.6893, 0.6190, 0.2432],\n",
      "         [0.3433, 0.7791, 0.9568, 0.5573]],\n",
      "\n",
      "        [[0.6972, 0.2924, 0.9546, 0.8517],\n",
      "         [0.6203, 0.2883, 0.1762, 0.4889]]])\n",
      "torch.FloatTensor\n",
      "3\n",
      "torch.Size([5, 2, 4])\n",
      "2\n"
     ]
    }
   ],
   "source": [
    "A=torch.rand(5,2,4)\n",
    "print(A)\n",
    "print(A.type())\n",
    "print(A.dim())\n",
    "print(A.size())\n",
    "print(A.size(1))"
   ]
  },
  {
   "cell_type": "markdown",
   "metadata": {
    "colab_type": "text",
    "id": "78lyynweRZjX"
   },
   "source": [
    "### Make 2 x 3 x 4 x 5 tensor filled with zeros then print it. (The command is torch.zeros). See if you can make sense of the display."
   ]
  },
  {
   "cell_type": "code",
   "execution_count": null,
   "metadata": {
    "colab": {},
    "colab_type": "code",
    "id": "CrHNW8hKRZjY",
    "outputId": "739e36df-dee2-4548-88c7-46553bcc2dcd"
   },
   "outputs": [
    {
     "name": "stdout",
     "output_type": "stream",
     "text": [
      "tensor([[[[0., 0., 0., 0., 0.],\n",
      "          [0., 0., 0., 0., 0.],\n",
      "          [0., 0., 0., 0., 0.],\n",
      "          [0., 0., 0., 0., 0.]],\n",
      "\n",
      "         [[0., 0., 0., 0., 0.],\n",
      "          [0., 0., 0., 0., 0.],\n",
      "          [0., 0., 0., 0., 0.],\n",
      "          [0., 0., 0., 0., 0.]],\n",
      "\n",
      "         [[0., 0., 0., 0., 0.],\n",
      "          [0., 0., 0., 0., 0.],\n",
      "          [0., 0., 0., 0., 0.],\n",
      "          [0., 0., 0., 0., 0.]]],\n",
      "\n",
      "\n",
      "        [[[0., 0., 0., 0., 0.],\n",
      "          [0., 0., 0., 0., 0.],\n",
      "          [0., 0., 0., 0., 0.],\n",
      "          [0., 0., 0., 0., 0.]],\n",
      "\n",
      "         [[0., 0., 0., 0., 0.],\n",
      "          [0., 0., 0., 0., 0.],\n",
      "          [0., 0., 0., 0., 0.],\n",
      "          [0., 0., 0., 0., 0.]],\n",
      "\n",
      "         [[0., 0., 0., 0., 0.],\n",
      "          [0., 0., 0., 0., 0.],\n",
      "          [0., 0., 0., 0., 0.],\n",
      "          [0., 0., 0., 0., 0.]]]])\n"
     ]
    }
   ],
   "source": [
    "A=torch.zeros(2,3,4,5)\n",
    "print(A)"
   ]
  },
  {
   "cell_type": "code",
   "execution_count": null,
   "metadata": {
    "colab": {},
    "colab_type": "code",
    "id": "YKasz7a2RZja"
   },
   "outputs": [],
   "source": []
  }
 ],
 "metadata": {
  "colab": {
   "collapsed_sections": [],
   "name": "pytorch_introduction_solutions.ipynb",
   "provenance": []
  },
  "kernelspec": {
   "display_name": "Python 3",
   "language": "python",
   "name": "python3"
  },
  "language_info": {
   "codemirror_mode": {
    "name": "ipython",
    "version": 3
   },
   "file_extension": ".py",
   "mimetype": "text/x-python",
   "name": "python",
   "nbconvert_exporter": "python",
   "pygments_lexer": "ipython3",
   "version": "3.9.12"
  }
 },
 "nbformat": 4,
 "nbformat_minor": 0
}
