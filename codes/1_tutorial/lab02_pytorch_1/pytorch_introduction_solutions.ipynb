{
 "cells": [
  {
   "cell_type": "markdown",
   "metadata": {
    "colab_type": "text",
    "id": "Egnp8mwbRZjF"
   },
   "source": [
    "# Introduction to PyTorch -- Solutions"
   ]
  },
  {
   "cell_type": "code",
   "execution_count": 2,
   "metadata": {
    "colab": {},
    "colab_type": "code",
    "id": "Dc2_TsLVRZjH"
   },
   "outputs": [],
   "source": [
    "import torch"
   ]
  },
  {
   "cell_type": "markdown",
   "metadata": {
    "colab_type": "text",
    "id": "fqaa85D2RZjJ"
   },
   "source": [
    "### Make the matrices A and B below. Add them together to obtain a matrix C. Print these three matrices.\n",
    "$$\n",
    "A =\\begin{bmatrix}\n",
    "1 & 2 \\\\ 3 & 4\n",
    "\\end{bmatrix}  \n",
    "\\qquad \n",
    "B =\\begin{bmatrix}\n",
    "10 & 20 \\\\ 30 & 40\n",
    "\\end{bmatrix}  \\qquad C=A+B =?\n",
    "$$"
   ]
  },
  {
   "cell_type": "code",
   "execution_count": 3,
   "metadata": {
    "colab": {},
    "colab_type": "code",
    "id": "rmXzfAdNRZjK",
    "outputId": "f8e7d381-a11b-4793-d9e8-b4398ecb3fe1"
   },
   "outputs": [
    {
     "name": "stdout",
     "output_type": "stream",
     "text": [
      "tensor([[1., 2.],\n",
      "        [3., 4.]])\n",
      "\n",
      "tensor([[10., 20.],\n",
      "        [30., 40.]])\n",
      "\n",
      "tensor([[11., 22.],\n",
      "        [33., 44.]])\n"
     ]
    }
   ],
   "source": [
    "A=torch.Tensor( [ [1,2] , [3,4] ] )\n",
    "B=torch.Tensor( [ [10,20] , [30,40] ] )\n",
    "\n",
    "C=A+B\n",
    "\n",
    "print(A)\n",
    "print('')\n",
    "print(B)\n",
    "print('')\n",
    "print(C)"
   ]
  },
  {
   "cell_type": "markdown",
   "metadata": {
    "colab_type": "text",
    "id": "s6HYN_gCRZjN"
   },
   "source": [
    "### Print the sizes, dimension, and type of the matrix A. Remember, the commands are size(), dim() and type()"
   ]
  },
  {
   "cell_type": "code",
   "execution_count": 4,
   "metadata": {
    "colab": {},
    "colab_type": "code",
    "id": "z3mFUo1xRZjO",
    "outputId": "2545a8dc-6d3f-409d-cfea-d277cfea64e2"
   },
   "outputs": [
    {
     "name": "stdout",
     "output_type": "stream",
     "text": [
      "torch.Size([2, 2])\n",
      "2\n",
      "torch.FloatTensor\n"
     ]
    }
   ],
   "source": [
    "print( A.size() )\n",
    "print( A.dim() )\n",
    "print( A.type() )"
   ]
  },
  {
   "cell_type": "markdown",
   "metadata": {
    "colab_type": "text",
    "id": "uMOOmo6kRZjR"
   },
   "source": [
    "### Convert the matrix A to be an integer matrix  (type LongTensor). Remember, the command is long(). Then print the type to check it was indeed converted."
   ]
  },
  {
   "cell_type": "code",
   "execution_count": 5,
   "metadata": {
    "colab": {},
    "colab_type": "code",
    "id": "v50nF_PKRZjS",
    "outputId": "431e8901-1455-4513-c2fb-e24c1dec41d9"
   },
   "outputs": [
    {
     "name": "stdout",
     "output_type": "stream",
     "text": [
      "tensor([[1, 2],\n",
      "        [3, 4]])\n",
      "torch.LongTensor\n"
     ]
    }
   ],
   "source": [
    "A=A.long()\n",
    "print(A)\n",
    "print(A.type())"
   ]
  },
  {
   "cell_type": "markdown",
   "metadata": {
    "colab_type": "text",
    "id": "bfRf4mhpRZjU"
   },
   "source": [
    "### Make a random 5 x 2 x 3 Tensor. The command is torch.rand.  Then do the following:   1) Print the tensor,  2) Print its type, 3) Print its dimension,  4) Print its size, 5) Print the size of its middle dimension."
   ]
  },
  {
   "cell_type": "code",
   "execution_count": 6,
   "metadata": {
    "colab": {},
    "colab_type": "code",
    "id": "i-ugwzakRZjV",
    "outputId": "3f4ff5bb-cc6f-4b63-a056-d3948814807a"
   },
   "outputs": [
    {
     "name": "stdout",
     "output_type": "stream",
     "text": [
      "tensor([[[0.9352, 0.5620, 0.5632, 0.1376],\n",
      "         [0.9416, 0.6177, 0.0414, 0.1272]],\n",
      "\n",
      "        [[0.6560, 0.6309, 0.4658, 0.6593],\n",
      "         [0.9723, 0.5108, 0.2144, 0.9618]],\n",
      "\n",
      "        [[0.3162, 0.7408, 0.8476, 0.5557],\n",
      "         [0.7965, 0.1295, 0.1915, 0.3873]],\n",
      "\n",
      "        [[0.9284, 0.9876, 0.8609, 0.4669],\n",
      "         [0.9431, 0.8253, 0.1314, 0.4267]],\n",
      "\n",
      "        [[0.0851, 0.2073, 0.9871, 0.2162],\n",
      "         [0.6092, 0.6204, 0.2411, 0.7048]]])\n",
      "torch.FloatTensor\n",
      "3\n",
      "torch.Size([5, 2, 4])\n",
      "2\n"
     ]
    }
   ],
   "source": [
    "A=torch.rand(5,2,4)\n",
    "print(A)\n",
    "print(A.type())\n",
    "print(A.dim())\n",
    "print(A.size())\n",
    "print(A.size(1))"
   ]
  },
  {
   "cell_type": "markdown",
   "metadata": {
    "colab_type": "text",
    "id": "78lyynweRZjX"
   },
   "source": [
    "### Make 2 x 3 x 4 x 5 tensor filled with zeros then print it. (The command is torch.zeros). See if you can make sense of the display."
   ]
  },
  {
   "cell_type": "code",
   "execution_count": 7,
   "metadata": {
    "colab": {},
    "colab_type": "code",
    "id": "CrHNW8hKRZjY",
    "outputId": "739e36df-dee2-4548-88c7-46553bcc2dcd"
   },
   "outputs": [
    {
     "name": "stdout",
     "output_type": "stream",
     "text": [
      "tensor([[[[0., 0., 0., 0., 0.],\n",
      "          [0., 0., 0., 0., 0.],\n",
      "          [0., 0., 0., 0., 0.],\n",
      "          [0., 0., 0., 0., 0.]],\n",
      "\n",
      "         [[0., 0., 0., 0., 0.],\n",
      "          [0., 0., 0., 0., 0.],\n",
      "          [0., 0., 0., 0., 0.],\n",
      "          [0., 0., 0., 0., 0.]],\n",
      "\n",
      "         [[0., 0., 0., 0., 0.],\n",
      "          [0., 0., 0., 0., 0.],\n",
      "          [0., 0., 0., 0., 0.],\n",
      "          [0., 0., 0., 0., 0.]]],\n",
      "\n",
      "\n",
      "        [[[0., 0., 0., 0., 0.],\n",
      "          [0., 0., 0., 0., 0.],\n",
      "          [0., 0., 0., 0., 0.],\n",
      "          [0., 0., 0., 0., 0.]],\n",
      "\n",
      "         [[0., 0., 0., 0., 0.],\n",
      "          [0., 0., 0., 0., 0.],\n",
      "          [0., 0., 0., 0., 0.],\n",
      "          [0., 0., 0., 0., 0.]],\n",
      "\n",
      "         [[0., 0., 0., 0., 0.],\n",
      "          [0., 0., 0., 0., 0.],\n",
      "          [0., 0., 0., 0., 0.],\n",
      "          [0., 0., 0., 0., 0.]]]])\n"
     ]
    }
   ],
   "source": [
    "A=torch.zeros(2,3,4,5)\n",
    "print(A)"
   ]
  },
  {
   "cell_type": "code",
   "execution_count": 8,
   "metadata": {},
   "outputs": [
    {
     "name": "stdout",
     "output_type": "stream",
     "text": [
      "[[1.  0.4]\n",
      " [0.4 1. ]]\n"
     ]
    }
   ],
   "source": [
    "import numpy as np\n",
    "import math\n",
    "M = np.array([[1,0.4], [0.4,1]])\n",
    "print(M)"
   ]
  },
  {
   "cell_type": "code",
   "execution_count": 9,
   "metadata": {
    "colab": {},
    "colab_type": "code",
    "id": "YKasz7a2RZja"
   },
   "outputs": [],
   "source": [
    "Minv = np.linalg.inv(M)"
   ]
  },
  {
   "cell_type": "code",
   "execution_count": 10,
   "metadata": {},
   "outputs": [
    {
     "name": "stdout",
     "output_type": "stream",
     "text": [
      "[[ 1.19047619 -0.47619048]\n",
      " [-0.47619048  1.19047619]]\n"
     ]
    }
   ],
   "source": [
    "print(Minv)"
   ]
  },
  {
   "cell_type": "code",
   "execution_count": 11,
   "metadata": {},
   "outputs": [
    {
     "name": "stderr",
     "output_type": "stream",
     "text": [
      "/var/folders/mq/9smvx9v10lz9nfgprhq0lngw0000gn/T/ipykernel_3066/3356190861.py:1: RuntimeWarning: invalid value encountered in sqrt\n",
      "  np.sqrt(Minv)\n"
     ]
    },
    {
     "data": {
      "text/plain": [
       "array([[1.09108945,        nan],\n",
       "       [       nan, 1.09108945]])"
      ]
     },
     "execution_count": 11,
     "metadata": {},
     "output_type": "execute_result"
    }
   ],
   "source": [
    "np.sqrt(Minv)"
   ]
  },
  {
   "cell_type": "markdown",
   "metadata": {},
   "source": [
    "###Using Numpy"
   ]
  },
  {
   "cell_type": "code",
   "execution_count": 12,
   "metadata": {},
   "outputs": [
    {
     "name": "stdout",
     "output_type": "stream",
     "text": [
      "[[-0.70710678  0.70710678]\n",
      " [ 0.70710678  0.70710678]]\n"
     ]
    }
   ],
   "source": [
    "array1 = np.array([[-1/np.sqrt(2), 1/np.sqrt(2)], [1/np.sqrt(2), 1/np.sqrt(2)]])\n",
    "print(array1)"
   ]
  },
  {
   "cell_type": "code",
   "execution_count": 13,
   "metadata": {},
   "outputs": [
    {
     "name": "stdout",
     "output_type": "stream",
     "text": [
      "[[0.84  0.   ]\n",
      " [0.    1.291]]\n"
     ]
    }
   ],
   "source": [
    "array2 = np.array([[0.84,0],[0, 1.291]])\n",
    "print(array2)"
   ]
  },
  {
   "cell_type": "markdown",
   "metadata": {},
   "source": [
    "##UsingPytorch"
   ]
  },
  {
   "cell_type": "code",
   "execution_count": 14,
   "metadata": {},
   "outputs": [
    {
     "name": "stdout",
     "output_type": "stream",
     "text": [
      "tensor([[-0.7071,  0.7071],\n",
      "        [ 0.7071,  0.7071]])\n"
     ]
    }
   ],
   "source": [
    "# Calculate the reciprocal square root of 2 as a scalar\n",
    "rsqrt_2 = 1 / torch.sqrt(torch.tensor(2.0))\n",
    "\n",
    "# Create the tensor using the scalar value\n",
    "array3 = torch.Tensor([[-rsqrt_2, rsqrt_2], [rsqrt_2, rsqrt_2]])\n",
    "\n",
    "print(array3)\n",
    "\n",
    "#array3 = torch.Tensor([[-rsqrt(2), rsqrt(2)], [rsqrt(2),rsqrt(2)]])"
   ]
  },
  {
   "cell_type": "code",
   "execution_count": 15,
   "metadata": {},
   "outputs": [],
   "source": [
    "A = torch.Tensor([[1,1], [2,2]])"
   ]
  },
  {
   "cell_type": "code",
   "execution_count": 16,
   "metadata": {},
   "outputs": [
    {
     "name": "stdout",
     "output_type": "stream",
     "text": [
      "tensor([[1., 1.],\n",
      "        [2., 2.]])\n"
     ]
    }
   ],
   "source": [
    "print(A)"
   ]
  },
  {
   "cell_type": "code",
   "execution_count": 17,
   "metadata": {},
   "outputs": [
    {
     "name": "stdout",
     "output_type": "stream",
     "text": [
      "[[-0.70710678  0.70710678]\n",
      " [ 0.70710678  0.70710678]]\n"
     ]
    }
   ],
   "source": [
    "array3 = np.array([[-1/np.sqrt(2), 1/np.sqrt(2)], [1/np.sqrt(2), 1/np.sqrt(2)]])\n",
    "print(array3)"
   ]
  },
  {
   "cell_type": "code",
   "execution_count": 18,
   "metadata": {},
   "outputs": [],
   "source": [
    "MatMul = np.matmul(array1,array2,array3)"
   ]
  },
  {
   "cell_type": "code",
   "execution_count": 19,
   "metadata": {},
   "outputs": [
    {
     "name": "stdout",
     "output_type": "stream",
     "text": [
      "[[-0.5939697   0.91287485]\n",
      " [ 0.5939697   0.91287485]]\n"
     ]
    }
   ],
   "source": [
    "print(MatMul)"
   ]
  },
  {
   "cell_type": "code",
   "execution_count": 20,
   "metadata": {},
   "outputs": [
    {
     "name": "stdout",
     "output_type": "stream",
     "text": [
      "[[-0.70710678  0.70710678]\n",
      " [ 0.70710678  0.70710678]]\n",
      "[[1.291 0.   ]\n",
      " [0.    0.84 ]]\n",
      "[[-0.70710678  0.70710678]\n",
      " [ 0.70710678  0.70710678]]\n",
      "Result of multiplying Array1, Array2, and Array3:\n",
      " [[ 1.0655 -0.2255]\n",
      " [-0.2255  1.0655]]\n"
     ]
    }
   ],
   "source": [
    "array1 = np.array([[-1/np.sqrt(2), 1/np.sqrt(2)], [1/np.sqrt(2), 1/np.sqrt(2)]])\n",
    "print(array1)\n",
    "\n",
    "array2 = np.array([[1.291,0],[0, 0.84]])\n",
    "print(array2)\n",
    "\n",
    "array3 = np.linalg.inv(array1)\n",
    "print(array3)\n",
    "\n",
    "# Perform matrix multiplication using @ operator\n",
    "result = array1 @ array2 @ array3\n",
    "print(\"Result of multiplying Array1, Array2, and Array3:\\n\", result)"
   ]
  },
  {
   "cell_type": "code",
   "execution_count": 21,
   "metadata": {},
   "outputs": [
    {
     "name": "stdout",
     "output_type": "stream",
     "text": [
      "A11:\n",
      " [[1.  0.4]\n",
      " [0.4 1. ]]\n",
      "Eigenvalues:\n",
      " [0.6 1.4]\n",
      "Eigenvectors:\n",
      " [[-0.70710678  0.70710678]\n",
      " [ 0.70710678  0.70710678]]\n",
      "Inverse square root of eigenvalues:\n",
      " [[1.29099445 0.        ]\n",
      " [0.         0.84515425]]\n",
      "A11^{-1/2}:\n",
      " [[ 1.06807435 -0.2229201 ]\n",
      " [-0.2229201   1.06807435]]\n"
     ]
    }
   ],
   "source": [
    "A11 = np.array([[1, 0.4], [0.4, 1.0]])\n",
    "print(\"A11:\\n\", A11)\n",
    "\n",
    "# Eigenvalue decomposition\n",
    "eigenvalues, eigenvectors = np.linalg.eigh(A11)\n",
    "print(\"Eigenvalues:\\n\", eigenvalues)\n",
    "print(\"Eigenvectors:\\n\", eigenvectors)\n",
    "\n",
    "# Inverse square root of the eigenvalues\n",
    "inv_sqrt_eigenvalues = np.diag(1 / np.sqrt(eigenvalues))\n",
    "print(\"Inverse square root of eigenvalues:\\n\", inv_sqrt_eigenvalues)\n",
    "\n",
    "# Reconstruct A11^{-1/2}\n",
    "A11_inv_sqrt = eigenvectors @ inv_sqrt_eigenvalues @ eigenvectors.T\n",
    "print(\"A11^{-1/2}:\\n\", A11_inv_sqrt)\n"
   ]
  },
  {
   "cell_type": "code",
   "execution_count": null,
   "metadata": {},
   "outputs": [],
   "source": []
  }
 ],
 "metadata": {
  "colab": {
   "collapsed_sections": [],
   "name": "pytorch_introduction_solutions.ipynb",
   "provenance": []
  },
  "kernelspec": {
   "display_name": "Python 3",
   "language": "python",
   "name": "python3"
  },
  "language_info": {
   "codemirror_mode": {
    "name": "ipython",
    "version": 3
   },
   "file_extension": ".py",
   "mimetype": "text/x-python",
   "name": "python",
   "nbconvert_exporter": "python",
   "pygments_lexer": "ipython3",
   "version": "3.9.12"
  }
 },
 "nbformat": 4,
 "nbformat_minor": 0
}
